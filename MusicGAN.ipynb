{
  "nbformat": 4,
  "nbformat_minor": 0,
  "metadata": {
    "colab": {
      "provenance": []
    },
    "kernelspec": {
      "name": "python3",
      "display_name": "Python 3"
    },
    "language_info": {
      "name": "python"
    },
    "accelerator": "GPU",
    "gpuClass": "standard"
  },
  "cells": [
    {
      "cell_type": "code",
      "source": [
        "from google.colab import drive\n",
        "drive.mount(\"/content/drive/\")"
      ],
      "metadata": {
        "colab": {
          "base_uri": "https://localhost:8080/"
        },
        "id": "5Jap4QLfIxD-",
        "outputId": "102b930c-6278-4a26-8c28-f87be7e885ed"
      },
      "execution_count": null,
      "outputs": [
        {
          "output_type": "stream",
          "name": "stdout",
          "text": [
            "Mounted at /content/drive/\n"
          ]
        }
      ]
    },
    {
      "cell_type": "code",
      "source": [
        "from music21 import *\n",
        "!apt install fluidsynth\n",
        "!cp /usr/share/sounds/sf2/FluidR3_GM.sf2 ./font.sf2"
      ],
      "metadata": {
        "id": "j-FNjEtX-4I1"
      },
      "execution_count": null,
      "outputs": []
    },
    {
      "cell_type": "markdown",
      "source": [
        "# ACCESS THE KAGGLE.JSON FILE TO DOWNLOAD LAKH-MIDI-DATASET FROM KAGGLE"
      ],
      "metadata": {
        "id": "tn_uxpo7-N1Q"
      }
    },
    {
      "cell_type": "code",
      "source": [
        "!cp \"/content/drive/MyDrive/SPEECH PROJECT/kaggle.json\" \"/content/\"\n",
        "!pip install -q kaggle\n",
        "!mkdir ~/.kaggle\n",
        "!cp kaggle.json ~/.kaggle/\n",
        "!chmod 600 ~/.kaggle/kaggle.json\n",
        "!kaggle datasets download -d imsparsh/lakh-midi-clean"
      ],
      "metadata": {
        "colab": {
          "base_uri": "https://localhost:8080/"
        },
        "id": "_8dSo5PmJxfO",
        "outputId": "25e01c7b-9a4e-42f5-9442-48e517de8bd1"
      },
      "execution_count": null,
      "outputs": [
        {
          "output_type": "stream",
          "name": "stdout",
          "text": [
            "Downloading lakh-midi-clean.zip to /content\n",
            " 93% 211M/226M [00:01<00:00, 185MB/s]\n",
            "100% 226M/226M [00:01<00:00, 156MB/s]\n"
          ]
        }
      ]
    },
    {
      "cell_type": "markdown",
      "source": [
        "# UNZIP THE DATASET FOLDER -->"
      ],
      "metadata": {
        "id": "12tTin7i-XIN"
      }
    },
    {
      "cell_type": "code",
      "source": [
        "!mkdir \"/content/LAKH-MIDI-CLEAN-DATASET/\"\n",
        "!unzip \"lakh-midi-clean.zip\" -d \"/content/LAKH-MIDI-CLEAN-DATASET/lakh_midi_clean\""
      ],
      "metadata": {
        "id": "WxGpg6-DKAeW"
      },
      "execution_count": null,
      "outputs": []
    },
    {
      "cell_type": "code",
      "source": [
        "!mkdir \"/content/midi_dataset/\""
      ],
      "metadata": {
        "id": "iNLY3KtSMPtV"
      },
      "execution_count": null,
      "outputs": []
    },
    {
      "cell_type": "markdown",
      "source": [
        "# MAKE A LIST OF ALL THE FOLDERS IN THE DATASET DIRECTORY -->"
      ],
      "metadata": {
        "id": "ytOsWiFx-dJ5"
      }
    },
    {
      "cell_type": "code",
      "source": [
        "import os\n",
        "\n",
        "folders_list = []\n",
        "for each in os.listdir(\"/content/LAKH-MIDI-CLEAN-DATASET/lakh_midi_clean/\"):\n",
        "  folders_list.append(os.path.join(\"/content/LAKH-MIDI-CLEAN-DATASET/lakh_midi_clean/\", each))\n",
        "print(folders_list)\n",
        "print(\"Number of Folders in the dataset: \", len(folders_list))\n",
        "#Each folder consists multiple .midi files."
      ],
      "metadata": {
        "id": "74siAGi3MXYM"
      },
      "execution_count": null,
      "outputs": []
    },
    {
      "cell_type": "markdown",
      "source": [
        "# COPY ALL THE MIDI FILES FROM DIFFERENT SUB-FOLDERS INTO A SINGLE DIRECTORY FOR EASE OF ACCESS -->"
      ],
      "metadata": {
        "id": "3qErNzSU-qoj"
      }
    },
    {
      "cell_type": "code",
      "source": [
        "import os\n",
        "import shutil\n",
        "\n",
        "src = r'/content/LAKH-MIDI-CLEAN-DATASET/lakh_midi_clean'\n",
        "dest = r'/content/midi_dataset/'\n",
        "\n",
        "for path, subdirs, files in os.walk(src):\n",
        "    for name in files:\n",
        "        filename = os.path.join(path, name)\n",
        "        shutil.copy2(filename, dest)"
      ],
      "metadata": {
        "id": "tU6gSmFMSBKz"
      },
      "execution_count": null,
      "outputs": []
    },
    {
      "cell_type": "code",
      "source": [
        "len(os.listdir(\"/content/midi_dataset/\"))"
      ],
      "metadata": {
        "colab": {
          "base_uri": "https://localhost:8080/"
        },
        "id": "vlwanhHjSLxO",
        "outputId": "526f7c02-293e-45f8-806d-b8f472296d9d"
      },
      "execution_count": null,
      "outputs": [
        {
          "output_type": "execute_result",
          "data": {
            "text/plain": [
              "15989"
            ]
          },
          "metadata": {},
          "execution_count": 9
        }
      ]
    },
    {
      "cell_type": "markdown",
      "source": [
        "# MIDI TO IMAGE (EXTRACT NOTES, DURATION AND CHORDS OF THE MIDI FILES) -->"
      ],
      "metadata": {
        "id": "ctKJ4bh3_lZq"
      }
    },
    {
      "cell_type": "code",
      "source": [
        "from music21 import converter, instrument, note, chord\n",
        "import sys\n",
        "import numpy as np\n",
        "from imageio import imwrite\n",
        "\n",
        "def extractNote(element):\n",
        "    return int(element.pitch.ps)\n",
        "\n",
        "def extractDuration(element):\n",
        "    return element.duration.quarterLength\n",
        "\n",
        "def get_notes(notes_to_parse):\n",
        "\n",
        "    \"\"\" Get all the notes and chords from the midi files \"\"\"\n",
        "    durations = []\n",
        "    notes = []\n",
        "    start = []\n",
        "\n",
        "    for element in notes_to_parse:\n",
        "        if isinstance(element, note.Note):\n",
        "            if element.isRest:\n",
        "                continue\n",
        "\n",
        "            start.append(element.offset)\n",
        "            notes.append(extractNote(element))\n",
        "            durations.append(extractDuration(element))\n",
        "\n",
        "        elif isinstance(element, chord.Chord):\n",
        "            if element.isRest:\n",
        "                continue\n",
        "            for chord_note in element:\n",
        "                start.append(element.offset)\n",
        "                durations.append(extractDuration(element))\n",
        "                notes.append(extractNote(chord_note))\n",
        "\n",
        "    return {\"start\":start, \"pitch\":notes, \"dur\":durations}\n",
        "\n",
        "\n",
        "def midi2image(midi_path, max_repetitions = float(\"inf\"), resolution = 0.25, lowerBoundNote = 21, upperBoundNote = 127, maxSongLength = 100):\n",
        "\n",
        "    try:\n",
        "        mid = converter.parse(midi_path)\n",
        "        instruments = instrument.partitionByInstrument(mid)\n",
        "        data = {}\n",
        "\n",
        "        try:\n",
        "            i=0\n",
        "            for instrument_i in instruments.parts:\n",
        "                notes_to_parse = instrument_i.recurse()\n",
        "\n",
        "                notes_data = get_notes(notes_to_parse) # EXTRACTING ALL THE MULTIPLE SUB-NOTES AT A PARTICULAR PERIOD OF DURATION IF FOUND, ELSE, EXTRACTING THE NOTE FOUND.\n",
        "                if len(notes_data[\"start\"]) == 0:\n",
        "                    continue\n",
        "\n",
        "                if instrument_i.partName is None:\n",
        "                    data[\"instrument_{}\".format(i)] = notes_data\n",
        "                    i+=1\n",
        "                else:\n",
        "                    data[instrument_i.partName] = notes_data # EXTRACTING INSTRUMENT'S NAME AS PER THE PITCH DETECTED.\n",
        "\n",
        "        except:\n",
        "            notes_to_parse = mid.flat.notes\n",
        "            data[\"instrument_0\"] = get_notes(notes_to_parse)\n",
        "\n",
        "        for instrument_name, values in data.items():\n",
        "            # https://en.wikipedia.org/wiki/Scientific_pitch_notation#Similar_systems\n",
        "\n",
        "            pitches = values[\"pitch\"]\n",
        "            durs = values[\"dur\"]\n",
        "            starts = values[\"start\"]\n",
        "\n",
        "            index = 0\n",
        "            while index < max_repetitions:\n",
        "                matrix = np.zeros((upperBoundNote-lowerBoundNote,maxSongLength))\n",
        "\n",
        "\n",
        "                for dur, start, pitch in zip(durs, starts, pitches):\n",
        "                    dur = int(dur/resolution)\n",
        "                    start = int(start/resolution)\n",
        "\n",
        "                    if not start > index*(maxSongLength+1) or not dur+start < index*maxSongLength:\n",
        "                        for j in range(start,start+dur):\n",
        "                            if j - index*maxSongLength >= 0 and j - index*maxSongLength < maxSongLength:\n",
        "                                matrix[pitch-lowerBoundNote,j - index*maxSongLength] = 255\n",
        "\n",
        "                if matrix.any(): # If matrix contains no notes (only zeros) don't save it\n",
        "                    imwrite(midi_path.split(\"/\")[-1].replace(\".mid\",f\"_{instrument_name}_{index}.png\"),matrix.astype(np.uint8))\n",
        "                    index += 1\n",
        "                else:\n",
        "                    break\n",
        "    except:\n",
        "        pass"
      ],
      "metadata": {
        "id": "H8-QNkUAqWRS"
      },
      "execution_count": null,
      "outputs": []
    },
    {
      "cell_type": "code",
      "source": [
        "os.mkdir(\"/content/drive/MyDrive/SPEECH PROJECT/PNG_OUTPUTS/\")\n",
        "os.chdir(\"/content/drive/MydRIVE/SPEECH PROJECT/PNG_OUTPUTS/\")"
      ],
      "metadata": {
        "id": "s3bzOrWALGQX"
      },
      "execution_count": null,
      "outputs": []
    },
    {
      "cell_type": "code",
      "source": [
        "if __name__ == \"__main__\":\n",
        "    import tqdm.notebook as tq\n",
        "    import os\n",
        "    midi_path = \"/content/midi_dataset/\"\n",
        "    file_count = 0\n",
        "    from glob import glob\n",
        "    files = glob(r\"/content/midi_dataset/*.mid\")\n",
        "    from random import Random\n",
        "    Random(9382).shuffle(files)\n",
        "    for each in tq.tqdm(os.listdir(midi_path)):\n",
        "      print(files[file_count])\n",
        "      midi2image(files[file_count], 1)\n",
        "      file_count += 1\n",
        "      if file_count == 1000:\n",
        "        break"
      ],
      "metadata": {
        "id": "MYB2Rz7b_kL1"
      },
      "execution_count": null,
      "outputs": []
    },
    {
      "cell_type": "code",
      "source": [
        "len(os.listdir(\"/content/drive/MyDrive/SPEECH PROJECT/PNG_FINAL\"))"
      ],
      "metadata": {
        "colab": {
          "base_uri": "https://localhost:8080/"
        },
        "id": "QH7iICRwBw7J",
        "outputId": "4ca8053c-6d54-44bc-9deb-fbfd21fd23f5"
      },
      "execution_count": null,
      "outputs": [
        {
          "output_type": "execute_result",
          "data": {
            "text/plain": [
              "6376"
            ]
          },
          "metadata": {},
          "execution_count": 61
        }
      ]
    },
    {
      "cell_type": "markdown",
      "source": [
        "#IMAGE TO MIDI"
      ],
      "metadata": {
        "id": "FtIEaSS50mp8"
      }
    },
    {
      "cell_type": "code",
      "source": [
        "from PIL import Image\n",
        "import numpy as np\n",
        "from music21 import instrument, note, chord, stream\n",
        "\n",
        "lowerBoundNote = 21\n",
        "def column2notes(column):\n",
        "    notes = []\n",
        "    for i in range(len(column)):\n",
        "        if column[i] > 255/2:\n",
        "            notes.append(i+lowerBoundNote)\n",
        "    return notes\n",
        "\n",
        "resolution = 0.25\n",
        "def updateNotes(newNotes,prevNotes):\n",
        "    res = {}\n",
        "    for note in newNotes:\n",
        "        if note in prevNotes:\n",
        "            res[note] = prevNotes[note] + resolution\n",
        "        else:\n",
        "            res[note] = resolution\n",
        "    return res\n",
        "\n",
        "def image2midi(image_path):\n",
        "    with Image.open(image_path) as image:\n",
        "        im_arr = np.frombuffer(image.tobytes(), dtype=np.uint8)\n",
        "        try:\n",
        "            im_arr = im_arr.reshape((image.size[1], image.size[0]))\n",
        "        except:\n",
        "            im_arr = im_arr.reshape((image.size[1], image.size[0],3))\n",
        "            im_arr = np.dot(im_arr, [0.33, 0.33, 0.33])\n",
        "\n",
        "    \"\"\" convert the output from the prediction to notes and create a midi file\n",
        "        from the notes \"\"\"\n",
        "    offset = 0\n",
        "    output_notes = []\n",
        "\n",
        "    # create note and chord objects based on the values generated by the model\n",
        "\n",
        "    prev_notes = updateNotes(im_arr.T[0,:],{})\n",
        "    for column in im_arr.T[1:,:]:\n",
        "        notes = column2notes(column)\n",
        "        # pattern is a chord\n",
        "        notes_in_chord = notes\n",
        "        old_notes = prev_notes.keys()\n",
        "        for old_note in old_notes:\n",
        "            if not old_note in notes_in_chord:\n",
        "                new_note = note.Note(old_note,quarterLength=prev_notes[old_note])\n",
        "                new_note.storedInstrument = instrument.Piano()\n",
        "                if offset - prev_notes[old_note] >= 0:\n",
        "                    new_note.offset = offset - prev_notes[old_note]\n",
        "                    output_notes.append(new_note)\n",
        "                elif offset == 0:\n",
        "                    new_note.offset = offset\n",
        "                    output_notes.append(new_note)\n",
        "                else:\n",
        "                    print(offset,prev_notes[old_note],old_note)\n",
        "\n",
        "        prev_notes = updateNotes(notes_in_chord,prev_notes)\n",
        "\n",
        "        # increase offset each iteration so that notes do not stack\n",
        "        offset += resolution\n",
        "\n",
        "    for old_note in prev_notes.keys():\n",
        "        new_note = note.Note(old_note,quarterLength=prev_notes[old_note])\n",
        "        new_note.storedInstrument = instrument.Piano()\n",
        "        new_note.offset = offset - prev_notes[old_note]\n",
        "\n",
        "        output_notes.append(new_note)\n",
        "\n",
        "    prev_notes = updateNotes(notes_in_chord,prev_notes)\n",
        "\n",
        "    midi_stream = stream.Stream(output_notes)\n",
        "\n",
        "    midi_stream.write('midi', fp=image_path.split(\"/\")[-1].replace(\".png\",\".mid\"))"
      ],
      "metadata": {
        "id": "g8rT_Wmg0i6O"
      },
      "execution_count": null,
      "outputs": []
    },
    {
      "cell_type": "markdown",
      "source": [
        "# ACCESS IMAGES -->"
      ],
      "metadata": {
        "id": "z9qDUnT62__Q"
      }
    },
    {
      "cell_type": "code",
      "source": [
        "import os\n",
        "from PIL import Image\n",
        "from matplotlib import pyplot as plt\n",
        "import numpy as np\n",
        "\n",
        "def sigmoid(x):\n",
        "    return 1 / (1 + np.exp(-x))\n",
        "\n",
        "def inv_sigmoid(x):\n",
        "    return np.log(x/(1-x))\n",
        "\n",
        "%matplotlib inline\n",
        "\n",
        "# path = '/content/output_images_copy/output_images/'\n",
        "path = \"/content/drive/MyDrive/SPEECH PROJECT/PNG_FINAL/\"\n",
        "os.getcwd()\n",
        "img_list = os.listdir(path)\n",
        "print(img_list)\n",
        "\n",
        "def access_images(img_list,path):\n",
        "    pixels = []\n",
        "    imgs = []\n",
        "    for i in range(len(os.listdir(path))):\n",
        "        if 'png' in img_list[i]:\n",
        "            img = Image.open(path+img_list[i],'r')\n",
        "            img = img.convert('1')\n",
        "            pix = np.array(img.getdata())\n",
        "            pix = pix.astype('float32')\n",
        "            pix /= 255.0\n",
        "            # print(pix.shape)\n",
        "            pixels.append(pix.reshape(106,100,1))\n",
        "            imgs.append(img)\n",
        "    return np.array(pixels),imgs\n",
        "\n",
        "def show_image(pix_list):\n",
        "    array = np.array(pix_list.reshape(106,106), dtype=np.uint8)\n",
        "    new_image = Image.fromarray(array)\n",
        "    new_image.show()\n",
        "\n",
        "pixels,imgs = access_images(img_list,path)"
      ],
      "metadata": {
        "id": "2fXKapwU2_ji"
      },
      "execution_count": null,
      "outputs": []
    },
    {
      "cell_type": "code",
      "source": [
        "pixels.shape"
      ],
      "metadata": {
        "colab": {
          "base_uri": "https://localhost:8080/"
        },
        "id": "bpxr--U24YFS",
        "outputId": "e7c37936-e9af-459b-eb60-96c9142f9f75"
      },
      "execution_count": null,
      "outputs": [
        {
          "output_type": "execute_result",
          "data": {
            "text/plain": [
              "(6447, 106, 100, 1)"
            ]
          },
          "metadata": {},
          "execution_count": 5
        }
      ]
    },
    {
      "cell_type": "code",
      "source": [
        "imgs[1]"
      ],
      "metadata": {
        "colab": {
          "base_uri": "https://localhost:8080/",
          "height": 123
        },
        "id": "K7iusRW71e2L",
        "outputId": "48c87bb4-338a-4424-8779-0ed2154c935e"
      },
      "execution_count": null,
      "outputs": [
        {
          "output_type": "execute_result",
          "data": {
            "text/plain": [
              "<PIL.Image.Image image mode=1 size=100x106 at 0x7FF3A72E9F90>"
            ],
            "image/png": "[encoded data removed]"
          },
          "metadata": {},
          "execution_count": 6
        }
      ]
    },
    {
      "cell_type": "code",
      "source": [
        "np.unique(pixels)"
      ],
      "metadata": {
        "colab": {
          "base_uri": "https://localhost:8080/"
        },
        "id": "IFv9RzqD6Vpf",
        "outputId": "051dcd63-d830-4e0b-e5ec-425070222e25"
      },
      "execution_count": null,
      "outputs": [
        {
          "output_type": "execute_result",
          "data": {
            "text/plain": [
              "array([0., 1.], dtype=float32)"
            ]
          },
          "metadata": {},
          "execution_count": 7
        }
      ]
    },
    {
      "cell_type": "markdown",
      "source": [
        "# IMPORT LIBRARIES FOR GAN -->"
      ],
      "metadata": {
        "id": "_LP9XnXb6u4o"
      }
    },
    {
      "cell_type": "code",
      "source": [
        "from numpy import zeros\n",
        "from numpy import ones\n",
        "from numpy import vstack\n",
        "from numpy.random import randn\n",
        "from numpy.random import randint\n",
        "from keras.datasets.mnist import load_data\n",
        "from tensorflow.keras.optimizers import Adam\n",
        "from keras.models import Sequential\n",
        "from keras.layers import Dense\n",
        "from keras.layers import Reshape\n",
        "from keras.layers import Flatten,BatchNormalization\n",
        "from keras.layers import Conv2D\n",
        "from keras.layers import Conv2DTranspose\n",
        "from keras.layers import LeakyReLU\n",
        "from keras.layers import Dropout\n",
        "from matplotlib import pyplot\n",
        "from IPython.display import clear_output"
      ],
      "metadata": {
        "id": "M1KW1_-J6Vr7"
      },
      "execution_count": null,
      "outputs": []
    },
    {
      "cell_type": "markdown",
      "source": [
        "# DEFINE DISCRIMINATOR -->"
      ],
      "metadata": {
        "id": "1RnGz1iO60qG"
      }
    },
    {
      "cell_type": "code",
      "source": [
        "def define_discriminator(in_shape = (106,100,1)):\n",
        "    model = Sequential()\n",
        "    model.add(Conv2D(64, (3,3), strides=(2, 2), padding='same', input_shape=in_shape))\n",
        "    model.add(LeakyReLU(alpha=0.2))\n",
        "    model.add(Dropout(0.5))\n",
        "    model.add(Conv2D(64, (3,3), strides=(2, 2), padding='same'))\n",
        "    model.add(LeakyReLU(alpha=0.2))\n",
        "    model.add(Dropout(0.5))\n",
        "    model.add(Flatten())\n",
        "    model.add(BatchNormalization())\n",
        "    model.add(Dense(1, activation='sigmoid'))\n",
        "    opt = Adam(learning_rate=0.00002, beta_1=0.5)\n",
        "    model.compile(loss='binary_crossentropy', optimizer=opt, metrics=['accuracy'])\n",
        "    return model"
      ],
      "metadata": {
        "id": "JgVAF8UG6Vux"
      },
      "execution_count": null,
      "outputs": []
    },
    {
      "cell_type": "markdown",
      "source": [
        "# DEFINE GENERATOR -->"
      ],
      "metadata": {
        "id": "Now1R2Fe64N4"
      }
    },
    {
      "cell_type": "code",
      "source": [
        "def define_generator(latent_dim):\n",
        "    model = Sequential()\n",
        "    n_nodes = 128 * 53 * 50\n",
        "    model.add(Dense(n_nodes, input_dim=latent_dim))\n",
        "    model.add(LeakyReLU(alpha=0.2))\n",
        "    model.add(Reshape((53, 50, 128))) # 106, 100\n",
        "    model.add(Dense(1024))\n",
        "    model.add(Conv2DTranspose(1024, (4,4), strides=(2,2), padding='same'))\n",
        "    model.add(Dense(1024))\n",
        "    model.add(LeakyReLU(alpha=0.2))\n",
        "    model.add(Dense(1024))\n",
        "    model.add(Conv2D(1, (7,7), padding='same',activation = 'sigmoid')) # 7x7\n",
        "    return model"
      ],
      "metadata": {
        "id": "ZQlr9onY6Vxi"
      },
      "execution_count": null,
      "outputs": []
    },
    {
      "cell_type": "code",
      "source": [
        "generator = define_generator(100)\n",
        "generator.summary()"
      ],
      "metadata": {
        "colab": {
          "base_uri": "https://localhost:8080/"
        },
        "id": "Egu2Y_KW3dzB",
        "outputId": "b9266b4b-d929-4da3-90eb-9e55a21a2b44"
      },
      "execution_count": null,
      "outputs": [
        {
          "output_type": "stream",
          "name": "stdout",
          "text": [
            "Model: \"sequential\"\n",
            "_________________________________________________________________\n",
            " Layer (type)                Output Shape              Param #   \n",
            "=================================================================\n",
            " dense (Dense)               (None, 339200)            34259200  \n",
            "                                                                 \n",
            " leaky_re_lu (LeakyReLU)     (None, 339200)            0         \n",
            "                                                                 \n",
            " reshape (Reshape)           (None, 53, 50, 128)       0         \n",
            "                                                                 \n",
            " dense_1 (Dense)             (None, 53, 50, 1024)      132096    \n",
            "                                                                 \n",
            " conv2d_transpose (Conv2DTra  (None, 106, 100, 1024)   16778240  \n",
            " nspose)                                                         \n",
            "                                                                 \n",
            " dense_2 (Dense)             (None, 106, 100, 1024)    1049600   \n",
            "                                                                 \n",
            " leaky_re_lu_1 (LeakyReLU)   (None, 106, 100, 1024)    0         \n",
            "                                                                 \n",
            " dense_3 (Dense)             (None, 106, 100, 1024)    1049600   \n",
            "                                                                 \n",
            " conv2d (Conv2D)             (None, 106, 100, 1)       50177     \n",
            "                                                                 \n",
            "=================================================================\n",
            "Total params: 53,318,913\n",
            "Trainable params: 53,318,913\n",
            "Non-trainable params: 0\n",
            "_________________________________________________________________\n"
          ]
        }
      ]
    },
    {
      "cell_type": "markdown",
      "source": [
        "# DEFINE GAN MODEL -->"
      ],
      "metadata": {
        "id": "Wz3GvR3967vH"
      }
    },
    {
      "cell_type": "code",
      "source": [
        "def define_gan(g_model, d_model):\n",
        "    d_model.trainable = False\n",
        "    model = Sequential()\n",
        "    model.add(g_model) # Noise generator (random) -> Generator, generator creates a fake image. This fake image goes inside the discriminator, disciriminator batayega ki fake hai ki nahi.\n",
        "    model.add(d_model)\n",
        "    opt = Adam(learning_rate=0.0002, beta_1=0.5)\n",
        "    model.compile(loss='binary_crossentropy', optimizer=opt)\n",
        "    return model"
      ],
      "metadata": {
        "id": "nSrjULgs3QAH"
      },
      "execution_count": null,
      "outputs": []
    },
    {
      "cell_type": "markdown",
      "source": [
        "# FAKE SAMPLE AND REAL SAMPLE GENERATION FOR TRAINING -->"
      ],
      "metadata": {
        "id": "qDa5Yajh6-4i"
      }
    },
    {
      "cell_type": "code",
      "source": [
        "def generate_real_samples(dataset, n_samples):\n",
        "    ix = randint(0, dataset.shape[0], n_samples)\n",
        "    X = dataset[ix]\n",
        "    y = ones((n_samples, 1))\n",
        "    return X, y\n",
        "\n",
        "def generate_latent_points(latent_dim, n_samples):\n",
        "    x_input = randn(latent_dim * n_samples)\n",
        "    x_input = x_input.reshape(n_samples, latent_dim)\n",
        "    return x_input\n",
        "\n",
        "def generate_fake_samples(g_model, latent_dim, n_samples):\n",
        "    x_input = generate_latent_points(latent_dim, n_samples)\n",
        "    X = g_model.predict(x_input)\n",
        "    y = zeros((n_samples, 1))\n",
        "    return X, y"
      ],
      "metadata": {
        "id": "4tx5CaEc69M1"
      },
      "execution_count": null,
      "outputs": []
    },
    {
      "cell_type": "markdown",
      "source": [
        "# FUNCTION TO SUMMARIZE PERFORMANCE -->"
      ],
      "metadata": {
        "id": "2L15_8-v7NCF"
      }
    },
    {
      "cell_type": "code",
      "source": [
        "# evaluate the discriminator, plot generated images, save generator model\n",
        "def summarize_performance(epoch, g_model, d_model, dataset, latent_dim, n_samples=150):\n",
        "\t# prepare real samples\n",
        "\tX_real, y_real = generate_real_samples(dataset, n_samples)\n",
        "\t# evaluate discriminator on real examples\n",
        "\t_, acc_real = d_model.evaluate(X_real, y_real, verbose=0)\n",
        "\t# prepare fake examples\n",
        "\tx_fake, y_fake = generate_fake_samples(g_model, latent_dim, n_samples)\n",
        "\t# evaluate discriminator on fake examples\n",
        "\t_, acc_fake = d_model.evaluate(x_fake, y_fake, verbose=0)\n",
        "\t# summarize discriminator performance\n",
        "\tprint('>Accuracy real: %.0f%%, fake: %.0f%%' % (acc_real*100, acc_fake*100))"
      ],
      "metadata": {
        "id": "LmiMGfdA7MSo"
      },
      "execution_count": null,
      "outputs": []
    },
    {
      "cell_type": "code",
      "source": [
        "import keras\n",
        "\n",
        "g_model = keras.models.load_model(\"/content/drive/MyDrive/SPEECH PROJECT/Generator_TRAINED_{i}.hdf5\")\n",
        "d_model = keras.models.load_model(\"/content/drive/MyDrive/SPEECH PROJECT/Discriminator_TRAINED_{i}.hdf5\")\n",
        "gan_model = keras.models.load_model(\"/content/drive/MyDrive/SPEECH PROJECT/GAN_FULL_TRAINED{i}.hdf5\")"
      ],
      "metadata": {
        "id": "9t_GqciSQfvh",
        "colab": {
          "base_uri": "https://localhost:8080/"
        },
        "outputId": "4f62d17a-06c1-4971-a593-c69de4873859"
      },
      "execution_count": null,
      "outputs": [
        {
          "output_type": "stream",
          "name": "stdout",
          "text": [
            "WARNING:tensorflow:No training configuration found in the save file, so the model was *not* compiled. Compile it manually.\n",
            "WARNING:tensorflow:Error in loading the saved optimizer state. As a result, your model is starting with a freshly initialized optimizer.\n"
          ]
        }
      ]
    },
    {
      "cell_type": "code",
      "source": [
        "import tqdm.notebook as tq\n",
        "latent_dim = 100\n",
        "d_model = define_discriminator()\n",
        "g_model = define_generator(latent_dim)\n",
        "gan_model = define_gan(g_model, d_model)\n",
        "print(pixels.shape)\n",
        "\n",
        "# Train the GAN model -->\n",
        "dataset = np.array(pixels)\n",
        "n_batch = 32\n",
        "bat_per_epo = int(dataset.shape[0] / n_batch)\n",
        "half_batch = int(n_batch / 2)\n",
        "n_epochs = 100\n",
        "g_loss_list = []\n",
        "d_loss_list = []\n",
        "\n",
        "for i in range(n_epochs):\n",
        "    for j in range(bat_per_epo):\n",
        "        X_real, y_real = generate_real_samples(dataset, half_batch)\n",
        "        X_fake, y_fake = generate_fake_samples(g_model, latent_dim, half_batch)\n",
        "        X, y = vstack((X_real, X_fake)), vstack((y_real, y_fake))\n",
        "        d_loss, _ = d_model.train_on_batch(X, y)\n",
        "        X_gan = generate_latent_points(latent_dim, n_batch)\n",
        "        y_gan = ones((n_batch, 1)) # Batch size = n_batch\n",
        "        g_loss = gan_model.train_on_batch(X_gan, y_gan)\n",
        "        g_loss_list.append(g_loss)\n",
        "        d_loss_list.append(d_loss)\n",
        "        print('>%d, %d/%d, d=%.3f, g=%.3f' % (i+1, j+1, bat_per_epo, d_loss, g_loss))\n",
        "    if (i+1) % 10 == 0:\n",
        "        summarize_performance(i, g_model, d_model, dataset, latent_dim)\n",
        "        clear_output()\n",
        "    g_model.save(\"/content/drive/MyDrive/SPEECH PROJECT/Generator_TRAINED_{i}.hdf5\")\n",
        "    d_model.save(\"/content/drive/MyDrive/SPEECH PROJECT/Discriminator_TRAINED_{i}.hdf5\")\n",
        "    gan_model.save(\"/content/drive/MyDrive/SPEECH PROJECT/GAN_FULL_TRAINED{i}.hdf5\")"
      ],
      "metadata": {
        "colab": {
          "base_uri": "https://localhost:8080/"
        },
        "id": "nxUEWz6r7D7C",
        "outputId": "500b7f7c-9acb-4296-bae6-0caf901e5a3b"
      },
      "execution_count": null,
      "outputs": [
        {
          "output_type": "stream",
          "name": "stdout",
          "text": [
            "(6447, 106, 100, 1)\n",
            ">1, 1/201, d=0.776, g=0.534\n",
            ">1, 2/201, d=0.862, g=0.555\n",
            ">1, 3/201, d=0.911, g=0.499\n",
            ">1, 4/201, d=0.856, g=0.558\n",
            ">1, 5/201, d=0.891, g=0.539\n",
            ">1, 6/201, d=0.861, g=0.581\n",
            ">1, 7/201, d=0.874, g=0.565\n",
            ">1, 8/201, d=0.909, g=0.566\n",
            ">1, 9/201, d=0.957, g=0.540\n",
            ">1, 10/201, d=0.991, g=0.518\n",
            ">1, 11/201, d=0.870, g=0.568\n",
            ">1, 12/201, d=0.891, g=0.525\n",
            ">1, 13/201, d=0.832, g=0.536\n",
            ">1, 14/201, d=1.015, g=0.494\n",
            ">1, 15/201, d=0.760, g=0.527\n",
            ">1, 16/201, d=0.854, g=0.502\n",
            ">1, 17/201, d=0.855, g=0.528\n",
            ">1, 18/201, d=0.779, g=0.528\n",
            ">1, 19/201, d=0.910, g=0.505\n",
            ">1, 20/201, d=0.857, g=0.509\n",
            ">1, 21/201, d=0.865, g=0.528\n",
            ">1, 22/201, d=0.846, g=0.492\n",
            ">1, 23/201, d=0.878, g=0.527\n",
            ">1, 24/201, d=0.850, g=0.547\n",
            ">1, 25/201, d=0.910, g=0.497\n",
            ">1, 26/201, d=0.927, g=0.496\n",
            ">1, 27/201, d=0.880, g=0.507\n",
            ">1, 28/201, d=0.862, g=0.530\n",
            ">1, 29/201, d=0.851, g=0.501\n",
            ">1, 30/201, d=0.892, g=0.491\n",
            ">1, 31/201, d=0.896, g=0.491\n",
            ">1, 32/201, d=0.956, g=0.442\n",
            ">1, 33/201, d=0.841, g=0.489\n",
            ">1, 34/201, d=0.819, g=0.482\n",
            ">1, 35/201, d=0.949, g=0.426\n",
            ">1, 36/201, d=0.856, g=0.508\n",
            ">1, 37/201, d=0.820, g=0.450\n",
            ">1, 38/201, d=0.830, g=0.424\n",
            ">1, 39/201, d=1.032, g=0.455\n",
            ">1, 40/201, d=0.873, g=0.469\n",
            ">1, 41/201, d=0.793, g=0.459\n",
            ">1, 42/201, d=0.819, g=0.526\n",
            ">1, 43/201, d=0.920, g=0.485\n",
            ">1, 44/201, d=0.872, g=0.462\n",
            ">1, 45/201, d=0.817, g=0.469\n",
            ">1, 46/201, d=0.907, g=0.485\n",
            ">1, 47/201, d=0.888, g=0.508\n",
            ">1, 48/201, d=0.821, g=0.446\n",
            ">1, 49/201, d=0.764, g=0.456\n",
            ">1, 50/201, d=0.764, g=0.445\n",
            ">1, 51/201, d=0.838, g=0.470\n",
            ">1, 52/201, d=0.798, g=0.442\n",
            ">1, 53/201, d=0.756, g=0.443\n",
            ">1, 54/201, d=0.877, g=0.444\n",
            ">1, 55/201, d=1.122, g=0.408\n",
            ">1, 56/201, d=0.953, g=0.485\n",
            ">1, 57/201, d=0.965, g=0.438\n",
            ">1, 58/201, d=0.840, g=0.393\n",
            ">1, 59/201, d=0.940, g=0.437\n",
            ">1, 60/201, d=0.792, g=0.424\n",
            ">1, 61/201, d=0.818, g=0.437\n",
            ">1, 62/201, d=0.875, g=0.415\n",
            ">1, 63/201, d=0.830, g=0.395\n",
            ">1, 64/201, d=0.899, g=0.395\n",
            ">1, 65/201, d=0.823, g=0.484\n",
            ">1, 66/201, d=0.845, g=0.425\n",
            ">1, 67/201, d=0.827, g=0.423\n",
            ">1, 68/201, d=0.832, g=0.410\n",
            ">1, 69/201, d=0.941, g=0.396\n",
            ">1, 70/201, d=0.845, g=0.383\n",
            ">1, 71/201, d=0.856, g=0.382\n",
            ">1, 72/201, d=0.889, g=0.399\n",
            ">1, 73/201, d=0.953, g=0.408\n",
            ">1, 74/201, d=0.837, g=0.443\n",
            ">1, 75/201, d=0.899, g=0.436\n",
            ">1, 76/201, d=0.824, g=0.395\n",
            ">1, 77/201, d=0.931, g=0.438\n",
            ">1, 78/201, d=0.775, g=0.382\n",
            ">1, 79/201, d=0.890, g=0.371\n",
            ">1, 80/201, d=0.942, g=0.397\n",
            ">1, 81/201, d=0.947, g=0.389\n",
            ">1, 82/201, d=0.964, g=0.391\n",
            ">1, 83/201, d=0.863, g=0.426\n",
            ">1, 84/201, d=0.753, g=0.350\n",
            ">1, 85/201, d=0.976, g=0.396\n",
            ">1, 86/201, d=0.828, g=0.389\n",
            ">1, 87/201, d=0.939, g=0.379\n",
            ">1, 88/201, d=0.873, g=0.335\n",
            ">1, 89/201, d=0.922, g=0.405\n",
            ">1, 90/201, d=0.872, g=0.377\n",
            ">1, 91/201, d=0.871, g=0.381\n",
            ">1, 92/201, d=0.769, g=0.351\n",
            ">1, 93/201, d=0.914, g=0.347\n",
            ">1, 94/201, d=0.838, g=0.309\n",
            ">1, 95/201, d=0.898, g=0.338\n",
            ">1, 96/201, d=0.864, g=0.295\n",
            ">1, 97/201, d=0.859, g=0.258\n",
            ">1, 98/201, d=0.839, g=0.361\n",
            ">1, 99/201, d=0.952, g=0.297\n",
            ">1, 100/201, d=0.912, g=0.353\n",
            ">1, 101/201, d=0.907, g=0.313\n",
            ">1, 102/201, d=0.818, g=0.294\n",
            ">1, 103/201, d=0.863, g=0.331\n",
            ">1, 104/201, d=0.897, g=0.306\n",
            ">1, 105/201, d=0.856, g=0.331\n",
            ">1, 106/201, d=0.804, g=0.260\n",
            ">1, 107/201, d=0.900, g=0.307\n",
            ">1, 108/201, d=0.886, g=0.259\n",
            ">1, 109/201, d=0.933, g=0.281\n",
            ">1, 110/201, d=0.921, g=0.268\n",
            ">1, 111/201, d=0.794, g=0.310\n",
            ">1, 112/201, d=0.835, g=0.364\n",
            ">1, 113/201, d=0.804, g=0.341\n",
            ">1, 114/201, d=0.882, g=0.240\n",
            ">1, 115/201, d=0.915, g=0.246\n",
            ">1, 116/201, d=0.857, g=0.225\n",
            ">1, 117/201, d=0.920, g=0.267\n",
            ">1, 118/201, d=0.823, g=0.277\n",
            ">1, 119/201, d=0.878, g=0.273\n",
            ">1, 120/201, d=0.868, g=0.222\n",
            ">1, 121/201, d=0.782, g=0.242\n",
            ">1, 122/201, d=0.808, g=0.264\n",
            ">1, 123/201, d=0.835, g=0.281\n",
            ">1, 124/201, d=0.906, g=0.267\n",
            ">1, 125/201, d=0.910, g=0.259\n",
            ">1, 126/201, d=0.882, g=0.224\n",
            ">1, 127/201, d=0.842, g=0.200\n",
            ">1, 128/201, d=0.875, g=0.182\n",
            ">1, 129/201, d=0.823, g=0.192\n",
            ">1, 130/201, d=1.158, g=0.175\n",
            ">1, 131/201, d=0.841, g=0.222\n",
            ">1, 132/201, d=0.868, g=0.221\n",
            ">1, 133/201, d=0.895, g=0.250\n",
            ">1, 134/201, d=0.844, g=0.197\n",
            ">1, 135/201, d=0.865, g=0.222\n",
            ">1, 136/201, d=0.852, g=0.223\n",
            ">1, 137/201, d=0.771, g=0.222\n",
            ">1, 138/201, d=0.779, g=0.179\n",
            ">1, 139/201, d=0.902, g=0.177\n",
            ">1, 140/201, d=0.893, g=0.208\n",
            ">1, 141/201, d=0.907, g=0.205\n",
            ">1, 142/201, d=0.807, g=0.171\n",
            ">1, 143/201, d=0.834, g=0.203\n",
            ">1, 144/201, d=0.833, g=0.227\n",
            ">1, 145/201, d=0.858, g=0.204\n",
            ">1, 146/201, d=1.018, g=0.230\n",
            ">1, 147/201, d=0.805, g=0.229\n",
            ">1, 148/201, d=1.017, g=0.169\n",
            ">1, 149/201, d=0.798, g=0.183\n",
            ">1, 150/201, d=0.812, g=0.205\n",
            ">1, 151/201, d=0.886, g=0.148\n",
            ">1, 152/201, d=0.878, g=0.143\n",
            ">1, 153/201, d=0.816, g=0.211\n",
            ">1, 154/201, d=0.944, g=0.151\n",
            ">1, 155/201, d=0.835, g=0.182\n",
            ">1, 156/201, d=0.805, g=0.151\n",
            ">1, 157/201, d=0.914, g=0.167\n",
            ">1, 158/201, d=0.867, g=0.193\n",
            ">1, 159/201, d=0.926, g=0.164\n",
            ">1, 160/201, d=0.909, g=0.168\n",
            ">1, 161/201, d=0.914, g=0.162\n",
            ">1, 162/201, d=0.872, g=0.117\n",
            ">1, 163/201, d=0.816, g=0.158\n",
            ">1, 164/201, d=0.833, g=0.147\n",
            ">1, 165/201, d=0.873, g=0.166\n",
            ">1, 166/201, d=0.845, g=0.198\n",
            ">1, 167/201, d=0.864, g=0.151\n",
            ">1, 168/201, d=0.912, g=0.142\n",
            ">1, 169/201, d=0.888, g=0.160\n",
            ">1, 170/201, d=0.821, g=0.133\n",
            ">1, 171/201, d=0.869, g=0.119\n",
            ">1, 172/201, d=0.834, g=0.140\n",
            ">1, 173/201, d=0.926, g=0.124\n",
            ">1, 174/201, d=0.781, g=0.122\n",
            ">1, 175/201, d=0.894, g=0.129\n",
            ">1, 176/201, d=0.805, g=0.141\n",
            ">1, 177/201, d=0.853, g=0.125\n",
            ">1, 178/201, d=0.866, g=0.132\n",
            ">1, 179/201, d=0.886, g=0.094\n",
            ">1, 180/201, d=0.899, g=0.112\n",
            ">1, 181/201, d=0.866, g=0.122\n",
            ">1, 182/201, d=1.030, g=0.144\n",
            ">1, 183/201, d=0.873, g=0.095\n",
            ">1, 184/201, d=0.905, g=0.119\n",
            ">1, 185/201, d=0.844, g=0.141\n",
            ">1, 186/201, d=0.990, g=0.105\n",
            ">1, 187/201, d=0.919, g=0.123\n",
            ">1, 188/201, d=0.917, g=0.155\n",
            ">1, 189/201, d=0.868, g=0.106\n",
            ">1, 190/201, d=0.787, g=0.165\n",
            ">1, 191/201, d=0.877, g=0.120\n",
            ">1, 192/201, d=0.841, g=0.098\n",
            ">1, 193/201, d=0.814, g=0.107\n",
            ">1, 194/201, d=0.969, g=0.110\n",
            ">1, 195/201, d=0.791, g=0.114\n",
            ">1, 196/201, d=0.878, g=0.119\n",
            ">1, 197/201, d=0.844, g=0.095\n",
            ">1, 198/201, d=0.809, g=0.124\n",
            ">1, 199/201, d=0.927, g=0.103\n",
            ">1, 200/201, d=0.867, g=0.093\n",
            ">1, 201/201, d=0.916, g=0.106\n",
            "WARNING:tensorflow:Compiled the loaded model, but the compiled metrics have yet to be built. `model.compile_metrics` will be empty until you train or evaluate the model.\n",
            ">2, 1/201, d=0.832, g=0.114\n",
            ">2, 2/201, d=0.806, g=0.118\n",
            ">2, 3/201, d=0.871, g=0.122\n",
            ">2, 4/201, d=0.852, g=0.110\n",
            ">2, 5/201, d=0.758, g=0.124\n",
            ">2, 6/201, d=0.897, g=0.088\n",
            ">2, 7/201, d=0.802, g=0.092\n",
            ">2, 8/201, d=0.851, g=0.103\n",
            ">2, 9/201, d=0.873, g=0.095\n",
            ">2, 10/201, d=0.875, g=0.091\n",
            ">2, 11/201, d=0.925, g=0.100\n",
            ">2, 12/201, d=0.829, g=0.064\n",
            ">2, 13/201, d=0.930, g=0.121\n",
            ">2, 14/201, d=0.882, g=0.063\n",
            ">2, 15/201, d=1.057, g=0.072\n",
            ">2, 16/201, d=0.838, g=0.085\n",
            ">2, 17/201, d=0.917, g=0.103\n",
            ">2, 18/201, d=0.894, g=0.096\n",
            ">2, 19/201, d=0.787, g=0.088\n",
            ">2, 20/201, d=0.774, g=0.076\n",
            ">2, 21/201, d=0.814, g=0.093\n",
            ">2, 22/201, d=0.798, g=0.086\n",
            ">2, 23/201, d=0.846, g=0.083\n",
            ">2, 24/201, d=0.847, g=0.076\n",
            ">2, 25/201, d=0.862, g=0.067\n",
            ">2, 26/201, d=0.842, g=0.082\n",
            ">2, 27/201, d=0.917, g=0.069\n",
            ">2, 28/201, d=0.774, g=0.076\n",
            ">2, 29/201, d=0.918, g=0.100\n",
            ">2, 30/201, d=0.851, g=0.071\n",
            ">2, 31/201, d=0.829, g=0.077\n",
            ">2, 32/201, d=0.879, g=0.051\n",
            ">2, 33/201, d=0.814, g=0.061\n",
            ">2, 34/201, d=0.774, g=0.070\n",
            ">2, 35/201, d=0.896, g=0.094\n",
            ">2, 36/201, d=0.830, g=0.077\n",
            ">2, 37/201, d=0.922, g=0.062\n",
            ">2, 38/201, d=0.892, g=0.067\n",
            ">2, 39/201, d=0.893, g=0.072\n",
            ">2, 40/201, d=0.958, g=0.066\n",
            ">2, 41/201, d=0.911, g=0.072\n",
            ">2, 42/201, d=0.912, g=0.059\n",
            ">2, 43/201, d=0.874, g=0.069\n",
            ">2, 44/201, d=0.851, g=0.062\n",
            ">2, 45/201, d=0.930, g=0.048\n",
            ">2, 46/201, d=0.830, g=0.073\n",
            ">2, 47/201, d=0.912, g=0.075\n",
            ">2, 48/201, d=0.795, g=0.036\n",
            ">2, 49/201, d=0.835, g=0.085\n",
            ">2, 50/201, d=0.837, g=0.070\n",
            ">2, 51/201, d=0.890, g=0.068\n",
            ">2, 52/201, d=0.886, g=0.062\n",
            ">2, 53/201, d=0.815, g=0.076\n",
            ">2, 54/201, d=0.857, g=0.043\n",
            ">2, 55/201, d=0.851, g=0.044\n",
            ">2, 56/201, d=0.855, g=0.054\n",
            ">2, 57/201, d=0.827, g=0.046\n",
            ">2, 58/201, d=0.919, g=0.062\n",
            ">2, 59/201, d=0.908, g=0.117\n",
            ">2, 60/201, d=0.849, g=0.080\n",
            ">2, 61/201, d=0.852, g=0.066\n",
            ">2, 62/201, d=0.796, g=0.035\n",
            ">2, 63/201, d=0.892, g=0.052\n",
            ">2, 64/201, d=0.777, g=0.045\n",
            ">2, 65/201, d=0.897, g=0.054\n",
            ">2, 66/201, d=0.763, g=0.053\n",
            ">2, 67/201, d=0.947, g=0.083\n",
            ">2, 68/201, d=0.888, g=0.055\n",
            ">2, 69/201, d=0.887, g=0.053\n",
            ">2, 70/201, d=0.824, g=0.041\n",
            ">2, 71/201, d=0.821, g=0.032\n",
            ">2, 72/201, d=1.069, g=0.065\n",
            ">2, 73/201, d=0.916, g=0.040\n",
            ">2, 74/201, d=0.860, g=0.049\n",
            ">2, 75/201, d=0.833, g=0.043\n",
            ">2, 76/201, d=0.841, g=0.034\n",
            ">2, 77/201, d=0.887, g=0.042\n",
            ">2, 78/201, d=0.859, g=0.044\n",
            ">2, 79/201, d=0.797, g=0.038\n",
            ">2, 80/201, d=0.810, g=0.027\n",
            ">2, 81/201, d=0.815, g=0.038\n",
            ">2, 82/201, d=0.829, g=0.033\n",
            ">2, 83/201, d=0.891, g=0.061\n",
            ">2, 84/201, d=0.872, g=0.039\n",
            ">2, 85/201, d=0.846, g=0.024\n",
            ">2, 86/201, d=0.727, g=0.059\n",
            ">2, 87/201, d=0.896, g=0.030\n",
            ">2, 88/201, d=0.921, g=0.066\n",
            ">2, 89/201, d=0.900, g=0.029\n",
            ">2, 90/201, d=0.879, g=0.042\n",
            ">2, 91/201, d=0.805, g=0.036\n",
            ">2, 92/201, d=0.808, g=0.043\n",
            ">2, 93/201, d=0.814, g=0.043\n",
            ">2, 94/201, d=0.892, g=0.038\n",
            ">2, 95/201, d=0.826, g=0.034\n",
            ">2, 96/201, d=0.990, g=0.042\n",
            ">2, 97/201, d=0.826, g=0.035\n",
            ">2, 98/201, d=0.878, g=0.030\n",
            ">2, 99/201, d=0.875, g=0.029\n",
            ">2, 100/201, d=0.809, g=0.035\n",
            ">2, 101/201, d=0.894, g=0.047\n",
            ">2, 102/201, d=1.001, g=0.030\n",
            ">2, 103/201, d=0.839, g=0.032\n",
            ">2, 104/201, d=0.811, g=0.041\n",
            ">2, 105/201, d=0.746, g=0.036\n",
            ">2, 106/201, d=0.812, g=0.014\n",
            ">2, 107/201, d=0.789, g=0.045\n",
            ">2, 108/201, d=0.934, g=0.029\n",
            ">2, 109/201, d=0.860, g=0.037\n",
            ">2, 110/201, d=0.823, g=0.033\n",
            ">2, 111/201, d=0.783, g=0.039\n",
            ">2, 112/201, d=0.913, g=0.034\n",
            ">2, 113/201, d=0.817, g=0.023\n",
            ">2, 114/201, d=0.872, g=0.024\n",
            ">2, 115/201, d=0.956, g=0.026\n",
            ">2, 116/201, d=0.967, g=0.019\n",
            ">2, 117/201, d=0.782, g=0.029\n",
            ">2, 118/201, d=0.929, g=0.026\n",
            ">2, 119/201, d=0.949, g=0.023\n",
            ">2, 120/201, d=0.758, g=0.027\n",
            ">2, 121/201, d=0.820, g=0.022\n",
            ">2, 122/201, d=0.838, g=0.034\n",
            ">2, 123/201, d=0.806, g=0.024\n",
            ">2, 124/201, d=0.888, g=0.026\n",
            ">2, 125/201, d=0.869, g=0.022\n",
            ">2, 126/201, d=0.859, g=0.028\n",
            ">2, 127/201, d=0.839, g=0.024\n",
            ">2, 128/201, d=0.773, g=0.021\n",
            ">2, 129/201, d=0.878, g=0.041\n",
            ">2, 130/201, d=0.806, g=0.031\n",
            ">2, 131/201, d=0.799, g=0.025\n",
            ">2, 132/201, d=1.064, g=0.017\n",
            ">2, 133/201, d=0.889, g=0.019\n",
            ">2, 134/201, d=0.942, g=0.036\n",
            ">2, 135/201, d=0.821, g=0.023\n",
            ">2, 136/201, d=0.856, g=0.018\n",
            ">2, 137/201, d=0.898, g=0.023\n",
            ">2, 138/201, d=0.812, g=0.025\n",
            ">2, 139/201, d=0.804, g=0.022\n",
            ">2, 140/201, d=0.856, g=0.018\n",
            ">2, 141/201, d=0.841, g=0.025\n",
            ">2, 142/201, d=0.834, g=0.021\n",
            ">2, 143/201, d=0.822, g=0.020\n",
            ">2, 144/201, d=0.930, g=0.023\n",
            ">2, 145/201, d=0.835, g=0.020\n",
            ">2, 146/201, d=0.860, g=0.028\n",
            ">2, 147/201, d=0.900, g=0.020\n",
            ">2, 148/201, d=0.878, g=0.035\n",
            ">2, 149/201, d=0.889, g=0.025\n",
            ">2, 150/201, d=0.895, g=0.015\n",
            ">2, 151/201, d=0.919, g=0.018\n",
            ">2, 152/201, d=0.776, g=0.020\n",
            ">2, 153/201, d=0.862, g=0.019\n",
            ">2, 154/201, d=0.878, g=0.013\n",
            ">2, 155/201, d=0.824, g=0.027\n",
            ">2, 156/201, d=0.811, g=0.020\n",
            ">2, 157/201, d=0.789, g=0.024\n",
            ">2, 158/201, d=0.810, g=0.022\n",
            ">2, 159/201, d=0.824, g=0.020\n",
            ">2, 160/201, d=0.826, g=0.022\n",
            ">2, 161/201, d=0.933, g=0.023\n",
            ">2, 162/201, d=0.929, g=0.016\n",
            ">2, 163/201, d=0.761, g=0.018\n",
            ">2, 164/201, d=0.829, g=0.026\n",
            ">2, 165/201, d=0.828, g=0.016\n",
            ">2, 166/201, d=0.876, g=0.018\n",
            ">2, 167/201, d=0.826, g=0.026\n",
            ">2, 168/201, d=0.896, g=0.016\n",
            ">2, 169/201, d=0.864, g=0.015\n",
            ">2, 170/201, d=0.980, g=0.031\n",
            ">2, 171/201, d=0.841, g=0.018\n",
            ">2, 172/201, d=0.894, g=0.011\n",
            ">2, 173/201, d=0.755, g=0.019\n",
            ">2, 174/201, d=0.930, g=0.024\n",
            ">2, 175/201, d=0.864, g=0.019\n",
            ">2, 176/201, d=0.824, g=0.031\n",
            ">2, 177/201, d=0.848, g=0.016\n",
            ">2, 178/201, d=0.921, g=0.020\n",
            ">2, 179/201, d=0.991, g=0.029\n",
            ">2, 180/201, d=0.828, g=0.020\n",
            ">2, 181/201, d=0.797, g=0.027\n",
            ">2, 182/201, d=0.845, g=0.016\n",
            ">2, 183/201, d=0.860, g=0.016\n",
            ">2, 184/201, d=0.899, g=0.015\n",
            ">2, 185/201, d=0.905, g=0.010\n",
            ">2, 186/201, d=0.775, g=0.015\n",
            ">2, 187/201, d=0.862, g=0.017\n",
            ">2, 188/201, d=0.862, g=0.026\n",
            ">2, 189/201, d=0.794, g=0.017\n",
            ">2, 190/201, d=1.007, g=0.012\n",
            ">2, 191/201, d=0.983, g=0.017\n",
            ">2, 192/201, d=0.842, g=0.011\n",
            ">2, 193/201, d=0.880, g=0.021\n",
            ">2, 194/201, d=1.009, g=0.014\n",
            ">2, 195/201, d=0.931, g=0.011\n",
            ">2, 196/201, d=0.864, g=0.016\n",
            ">2, 197/201, d=0.876, g=0.011\n",
            ">2, 198/201, d=0.810, g=0.010\n",
            ">2, 199/201, d=0.885, g=0.015\n",
            ">2, 200/201, d=0.834, g=0.014\n",
            ">2, 201/201, d=0.895, g=0.016\n",
            "WARNING:tensorflow:Compiled the loaded model, but the compiled metrics have yet to be built. `model.compile_metrics` will be empty until you train or evaluate the model.\n",
            ">3, 1/201, d=0.957, g=0.011\n",
            ">3, 2/201, d=0.827, g=0.014\n",
            ">3, 3/201, d=0.851, g=0.017\n",
            ">3, 4/201, d=0.749, g=0.013\n",
            ">3, 5/201, d=0.964, g=0.018\n",
            ">3, 6/201, d=0.818, g=0.015\n",
            ">3, 7/201, d=0.807, g=0.013\n",
            ">3, 8/201, d=0.798, g=0.011\n",
            ">3, 9/201, d=0.777, g=0.019\n",
            ">3, 10/201, d=0.819, g=0.019\n",
            ">3, 11/201, d=1.136, g=0.011\n",
            ">3, 12/201, d=0.886, g=0.012\n",
            ">3, 13/201, d=0.861, g=0.017\n",
            ">3, 14/201, d=0.862, g=0.007\n",
            ">3, 15/201, d=0.888, g=0.014\n",
            ">3, 16/201, d=0.939, g=0.010\n",
            ">3, 17/201, d=0.809, g=0.013\n",
            ">3, 18/201, d=0.894, g=0.018\n",
            ">3, 19/201, d=0.878, g=0.017\n",
            ">3, 20/201, d=0.804, g=0.013\n",
            ">3, 21/201, d=0.847, g=0.014\n",
            ">3, 22/201, d=0.817, g=0.012\n",
            ">3, 23/201, d=0.841, g=0.011\n",
            ">3, 24/201, d=0.902, g=0.011\n",
            ">3, 25/201, d=0.862, g=0.008\n",
            ">3, 26/201, d=0.914, g=0.017\n",
            ">3, 27/201, d=0.923, g=0.014\n",
            ">3, 28/201, d=0.934, g=0.009\n",
            ">3, 29/201, d=0.866, g=0.012\n",
            ">3, 30/201, d=0.760, g=0.008\n",
            ">3, 31/201, d=0.986, g=0.010\n",
            ">3, 32/201, d=0.874, g=0.013\n",
            ">3, 33/201, d=0.744, g=0.012\n",
            ">3, 34/201, d=0.784, g=0.011\n",
            ">3, 35/201, d=0.866, g=0.013\n",
            ">3, 36/201, d=0.806, g=0.012\n",
            ">3, 37/201, d=0.870, g=0.009\n",
            ">3, 38/201, d=0.884, g=0.012\n",
            ">3, 39/201, d=0.851, g=0.013\n",
            ">3, 40/201, d=0.780, g=0.012\n",
            ">3, 41/201, d=0.889, g=0.010\n",
            ">3, 42/201, d=0.834, g=0.008\n",
            ">3, 43/201, d=0.880, g=0.011\n",
            ">3, 44/201, d=0.902, g=0.012\n",
            ">3, 45/201, d=0.919, g=0.013\n",
            ">3, 46/201, d=0.879, g=0.011\n",
            ">3, 47/201, d=0.881, g=0.005\n",
            ">3, 48/201, d=0.930, g=0.011\n",
            ">3, 49/201, d=0.857, g=0.015\n",
            ">3, 50/201, d=0.832, g=0.009\n",
            ">3, 51/201, d=0.951, g=0.014\n",
            ">3, 52/201, d=0.835, g=0.010\n",
            ">3, 53/201, d=0.857, g=0.013\n",
            ">3, 54/201, d=0.847, g=0.011\n",
            ">3, 55/201, d=0.741, g=0.009\n",
            ">3, 56/201, d=0.945, g=0.007\n",
            ">3, 57/201, d=0.786, g=0.006\n",
            ">3, 58/201, d=0.987, g=0.007\n",
            ">3, 59/201, d=0.843, g=0.013\n",
            ">3, 60/201, d=0.877, g=0.010\n",
            ">3, 61/201, d=0.932, g=0.011\n",
            ">3, 62/201, d=0.732, g=0.005\n",
            ">3, 63/201, d=0.875, g=0.010\n",
            ">3, 64/201, d=0.977, g=0.012\n",
            ">3, 65/201, d=0.874, g=0.008\n",
            ">3, 66/201, d=0.974, g=0.011\n",
            ">3, 67/201, d=0.920, g=0.006\n",
            ">3, 68/201, d=0.979, g=0.005\n",
            ">3, 69/201, d=0.838, g=0.010\n",
            ">3, 70/201, d=0.905, g=0.009\n",
            ">3, 71/201, d=0.857, g=0.013\n",
            ">3, 72/201, d=0.985, g=0.009\n",
            ">3, 73/201, d=0.827, g=0.007\n",
            ">3, 74/201, d=0.801, g=0.007\n",
            ">3, 75/201, d=0.775, g=0.008\n",
            ">3, 76/201, d=0.890, g=0.013\n",
            ">3, 77/201, d=0.914, g=0.011\n",
            ">3, 78/201, d=0.892, g=0.006\n",
            ">3, 79/201, d=0.806, g=0.009\n",
            ">3, 80/201, d=0.825, g=0.009\n",
            ">3, 81/201, d=0.954, g=0.010\n",
            ">3, 82/201, d=0.786, g=0.009\n",
            ">3, 83/201, d=0.841, g=0.012\n",
            ">3, 84/201, d=0.939, g=0.008\n",
            ">3, 85/201, d=0.856, g=0.010\n",
            ">3, 86/201, d=0.852, g=0.013\n",
            ">3, 87/201, d=0.834, g=0.008\n",
            ">3, 88/201, d=0.952, g=0.006\n",
            ">3, 89/201, d=0.844, g=0.011\n",
            ">3, 90/201, d=0.785, g=0.010\n",
            ">3, 91/201, d=0.825, g=0.014\n",
            ">3, 92/201, d=0.872, g=0.007\n",
            ">3, 93/201, d=0.943, g=0.010\n",
            ">3, 94/201, d=0.886, g=0.007\n",
            ">3, 95/201, d=0.960, g=0.006\n",
            ">3, 96/201, d=0.920, g=0.011\n",
            ">3, 97/201, d=0.871, g=0.007\n",
            ">3, 98/201, d=0.870, g=0.007\n",
            ">3, 99/201, d=0.891, g=0.010\n",
            ">3, 100/201, d=0.850, g=0.012\n",
            ">3, 101/201, d=0.905, g=0.008\n",
            ">3, 102/201, d=0.860, g=0.008\n",
            ">3, 103/201, d=0.903, g=0.007\n",
            ">3, 104/201, d=0.785, g=0.009\n",
            ">3, 105/201, d=0.874, g=0.006\n",
            ">3, 106/201, d=0.889, g=0.006\n",
            ">3, 107/201, d=0.767, g=0.010\n",
            ">3, 108/201, d=0.785, g=0.008\n",
            ">3, 109/201, d=0.795, g=0.008\n",
            ">3, 110/201, d=0.752, g=0.006\n",
            ">3, 111/201, d=0.873, g=0.005\n",
            ">3, 112/201, d=0.922, g=0.011\n",
            ">3, 113/201, d=0.818, g=0.008\n",
            ">3, 114/201, d=0.860, g=0.013\n",
            ">3, 115/201, d=0.899, g=0.007\n",
            ">3, 116/201, d=0.744, g=0.014\n",
            ">3, 117/201, d=0.864, g=0.006\n",
            ">3, 118/201, d=0.891, g=0.005\n",
            ">3, 119/201, d=0.911, g=0.009\n",
            ">3, 120/201, d=0.837, g=0.008\n",
            ">3, 121/201, d=0.776, g=0.007\n",
            ">3, 122/201, d=0.847, g=0.007\n",
            ">3, 123/201, d=1.243, g=0.007\n",
            ">3, 124/201, d=0.905, g=0.008\n",
            ">3, 125/201, d=0.890, g=0.007\n",
            ">3, 126/201, d=0.861, g=0.006\n",
            ">3, 127/201, d=0.846, g=0.008\n",
            ">3, 128/201, d=0.863, g=0.006\n",
            ">3, 129/201, d=0.957, g=0.014\n",
            ">3, 130/201, d=0.907, g=0.008\n",
            ">3, 131/201, d=0.855, g=0.006\n",
            ">3, 132/201, d=0.860, g=0.009\n",
            ">3, 133/201, d=0.878, g=0.007\n",
            ">3, 134/201, d=0.837, g=0.005\n",
            ">3, 135/201, d=0.846, g=0.005\n",
            ">3, 136/201, d=1.124, g=0.008\n",
            ">3, 137/201, d=0.856, g=0.007\n",
            ">3, 138/201, d=0.887, g=0.008\n",
            ">3, 139/201, d=0.844, g=0.009\n",
            ">3, 140/201, d=0.815, g=0.006\n",
            ">3, 141/201, d=0.809, g=0.004\n",
            ">3, 142/201, d=0.787, g=0.007\n",
            ">3, 143/201, d=0.932, g=0.007\n",
            ">3, 144/201, d=0.718, g=0.009\n",
            ">3, 145/201, d=0.900, g=0.006\n",
            ">3, 146/201, d=0.976, g=0.005\n",
            ">3, 147/201, d=0.884, g=0.012\n",
            ">3, 148/201, d=0.774, g=0.008\n",
            ">3, 149/201, d=0.890, g=0.006\n",
            ">3, 150/201, d=0.819, g=0.017\n",
            ">3, 151/201, d=1.059, g=0.004\n",
            ">3, 152/201, d=0.774, g=0.007\n",
            ">3, 153/201, d=0.906, g=0.011\n",
            ">3, 154/201, d=0.899, g=0.007\n",
            ">3, 155/201, d=0.789, g=0.013\n",
            ">3, 156/201, d=0.800, g=0.005\n",
            ">3, 157/201, d=0.910, g=0.009\n",
            ">3, 158/201, d=0.865, g=0.005\n",
            ">3, 159/201, d=0.835, g=0.008\n",
            ">3, 160/201, d=0.922, g=0.008\n",
            ">3, 161/201, d=0.934, g=0.004\n",
            ">3, 162/201, d=0.761, g=0.005\n",
            ">3, 163/201, d=0.853, g=0.006\n",
            ">3, 164/201, d=0.833, g=0.005\n",
            ">3, 165/201, d=0.930, g=0.003\n",
            ">3, 166/201, d=0.786, g=0.007\n",
            ">3, 167/201, d=0.908, g=0.007\n",
            ">3, 168/201, d=0.849, g=0.008\n",
            ">3, 169/201, d=0.832, g=0.004\n",
            ">3, 170/201, d=0.899, g=0.006\n",
            ">3, 171/201, d=0.968, g=0.008\n",
            ">3, 172/201, d=0.854, g=0.003\n",
            ">3, 173/201, d=0.843, g=0.006\n",
            ">3, 174/201, d=0.863, g=0.004\n",
            ">3, 175/201, d=0.948, g=0.007\n",
            ">3, 176/201, d=0.842, g=0.004\n",
            ">3, 177/201, d=0.992, g=0.006\n",
            ">3, 178/201, d=0.912, g=0.005\n",
            ">3, 179/201, d=0.782, g=0.007\n",
            ">3, 180/201, d=0.819, g=0.009\n",
            ">3, 181/201, d=0.893, g=0.004\n",
            ">3, 182/201, d=0.772, g=0.002\n",
            ">3, 183/201, d=0.825, g=0.004\n",
            ">3, 184/201, d=1.010, g=0.006\n",
            ">3, 185/201, d=0.785, g=0.006\n",
            ">3, 186/201, d=0.933, g=0.004\n",
            ">3, 187/201, d=0.897, g=0.005\n",
            ">3, 188/201, d=0.847, g=0.005\n",
            ">3, 189/201, d=0.880, g=0.004\n",
            ">3, 190/201, d=0.878, g=0.003\n",
            ">3, 191/201, d=0.863, g=0.004\n",
            ">3, 192/201, d=0.792, g=0.006\n",
            ">3, 193/201, d=0.762, g=0.004\n",
            ">3, 194/201, d=0.853, g=0.005\n",
            ">3, 195/201, d=0.788, g=0.007\n",
            ">3, 196/201, d=0.830, g=0.005\n",
            ">3, 197/201, d=0.844, g=0.003\n",
            ">3, 198/201, d=0.897, g=0.008\n",
            ">3, 199/201, d=0.892, g=0.007\n",
            ">3, 200/201, d=0.861, g=0.004\n",
            ">3, 201/201, d=0.917, g=0.004\n",
            "WARNING:tensorflow:Compiled the loaded model, but the compiled metrics have yet to be built. `model.compile_metrics` will be empty until you train or evaluate the model.\n",
            ">4, 1/201, d=0.884, g=0.006\n",
            ">4, 2/201, d=0.931, g=0.007\n",
            ">4, 3/201, d=0.895, g=0.003\n",
            ">4, 4/201, d=1.001, g=0.004\n",
            ">4, 5/201, d=0.927, g=0.005\n",
            ">4, 6/201, d=0.806, g=0.005\n",
            ">4, 7/201, d=0.820, g=0.006\n",
            ">4, 8/201, d=0.803, g=0.006\n",
            ">4, 9/201, d=0.902, g=0.006\n",
            ">4, 10/201, d=0.989, g=0.005\n",
            ">4, 11/201, d=0.885, g=0.005\n",
            ">4, 12/201, d=0.813, g=0.004\n",
            ">4, 13/201, d=0.963, g=0.004\n",
            ">4, 14/201, d=1.018, g=0.006\n",
            ">4, 15/201, d=0.849, g=0.004\n",
            ">4, 16/201, d=0.908, g=0.006\n",
            ">4, 17/201, d=0.819, g=0.003\n",
            ">4, 18/201, d=0.962, g=0.003\n",
            ">4, 19/201, d=0.915, g=0.005\n",
            ">4, 20/201, d=0.847, g=0.004\n",
            ">4, 21/201, d=0.967, g=0.004\n",
            ">4, 22/201, d=0.852, g=0.006\n",
            ">4, 23/201, d=0.829, g=0.009\n",
            ">4, 24/201, d=0.890, g=0.005\n",
            ">4, 25/201, d=0.880, g=0.007\n",
            ">4, 26/201, d=1.039, g=0.003\n",
            ">4, 27/201, d=0.776, g=0.007\n",
            ">4, 28/201, d=0.886, g=0.006\n",
            ">4, 29/201, d=0.822, g=0.004\n",
            ">4, 30/201, d=0.887, g=0.004\n",
            ">4, 31/201, d=0.807, g=0.006\n",
            ">4, 32/201, d=0.919, g=0.004\n",
            ">4, 33/201, d=0.973, g=0.004\n",
            ">4, 34/201, d=0.940, g=0.002\n",
            ">4, 35/201, d=0.803, g=0.004\n",
            ">4, 36/201, d=0.826, g=0.004\n",
            ">4, 37/201, d=0.840, g=0.007\n",
            ">4, 38/201, d=0.979, g=0.006\n",
            ">4, 39/201, d=0.920, g=0.003\n",
            ">4, 40/201, d=0.863, g=0.004\n",
            ">4, 41/201, d=0.814, g=0.004\n",
            ">4, 42/201, d=0.923, g=0.009\n",
            ">4, 43/201, d=0.901, g=0.004\n",
            ">4, 44/201, d=0.801, g=0.003\n",
            ">4, 45/201, d=0.900, g=0.004\n",
            ">4, 46/201, d=0.931, g=0.005\n",
            ">4, 47/201, d=0.950, g=0.002\n",
            ">4, 48/201, d=0.919, g=0.003\n",
            ">4, 49/201, d=0.876, g=0.005\n",
            ">4, 50/201, d=0.895, g=0.002\n",
            ">4, 51/201, d=0.978, g=0.006\n",
            ">4, 52/201, d=0.860, g=0.004\n",
            ">4, 53/201, d=0.925, g=0.003\n",
            ">4, 54/201, d=0.874, g=0.004\n",
            ">4, 55/201, d=0.841, g=0.003\n",
            ">4, 56/201, d=0.893, g=0.006\n",
            ">4, 57/201, d=0.863, g=0.004\n",
            ">4, 58/201, d=0.904, g=0.002\n",
            ">4, 59/201, d=0.811, g=0.005\n",
            ">4, 60/201, d=0.788, g=0.021\n",
            ">4, 61/201, d=1.024, g=0.010\n",
            ">4, 62/201, d=0.932, g=0.010\n",
            ">4, 63/201, d=0.884, g=0.007\n",
            ">4, 64/201, d=0.773, g=0.013\n",
            ">4, 65/201, d=0.852, g=0.006\n",
            ">4, 66/201, d=0.944, g=0.004\n",
            ">4, 67/201, d=0.833, g=0.004\n",
            ">4, 68/201, d=0.860, g=0.003\n",
            ">4, 69/201, d=0.992, g=0.003\n",
            ">4, 70/201, d=0.842, g=0.003\n",
            ">4, 71/201, d=0.968, g=0.003\n",
            ">4, 72/201, d=0.874, g=0.003\n",
            ">4, 73/201, d=0.906, g=0.005\n",
            ">4, 74/201, d=0.786, g=0.007\n",
            ">4, 75/201, d=0.948, g=0.004\n",
            ">4, 76/201, d=0.881, g=0.003\n",
            ">4, 77/201, d=0.926, g=0.003\n",
            ">4, 78/201, d=0.864, g=0.008\n",
            ">4, 79/201, d=0.927, g=0.003\n",
            ">4, 80/201, d=0.870, g=0.004\n",
            ">4, 81/201, d=0.867, g=0.002\n",
            ">4, 82/201, d=0.851, g=0.004\n",
            ">4, 83/201, d=0.810, g=0.003\n",
            ">4, 84/201, d=0.970, g=0.004\n",
            ">4, 85/201, d=0.755, g=0.004\n",
            ">4, 86/201, d=0.830, g=0.003\n",
            ">4, 87/201, d=0.923, g=0.004\n",
            ">4, 88/201, d=0.873, g=0.003\n",
            ">4, 89/201, d=0.845, g=0.004\n",
            ">4, 90/201, d=0.826, g=0.004\n",
            ">4, 91/201, d=1.137, g=0.003\n",
            ">4, 92/201, d=0.868, g=0.003\n",
            ">4, 93/201, d=0.872, g=0.003\n",
            ">4, 94/201, d=0.986, g=0.003\n",
            ">4, 95/201, d=0.849, g=0.003\n",
            ">4, 96/201, d=0.710, g=0.003\n",
            ">4, 97/201, d=0.782, g=0.003\n",
            ">4, 98/201, d=0.882, g=0.003\n",
            ">4, 99/201, d=0.843, g=0.002\n",
            ">4, 100/201, d=0.826, g=0.003\n",
            ">4, 101/201, d=0.959, g=0.005\n",
            ">4, 102/201, d=0.795, g=0.003\n",
            ">4, 103/201, d=0.936, g=0.005\n",
            ">4, 104/201, d=0.952, g=0.003\n",
            ">4, 105/201, d=0.808, g=0.003\n",
            ">4, 106/201, d=0.806, g=0.002\n",
            ">4, 107/201, d=0.772, g=0.002\n",
            ">4, 108/201, d=0.903, g=0.003\n",
            ">4, 109/201, d=0.874, g=0.003\n",
            ">4, 110/201, d=0.896, g=0.005\n",
            ">4, 111/201, d=0.916, g=0.002\n",
            ">4, 112/201, d=0.768, g=0.003\n",
            ">4, 113/201, d=0.965, g=0.005\n",
            ">4, 114/201, d=0.832, g=0.005\n",
            ">4, 115/201, d=0.863, g=0.005\n",
            ">4, 116/201, d=0.817, g=0.003\n",
            ">4, 117/201, d=0.831, g=0.005\n",
            ">4, 118/201, d=0.803, g=0.003\n",
            ">4, 119/201, d=0.854, g=0.005\n",
            ">4, 120/201, d=0.793, g=0.004\n",
            ">4, 121/201, d=0.837, g=0.005\n",
            ">4, 122/201, d=0.868, g=0.002\n",
            ">4, 123/201, d=0.881, g=0.003\n",
            ">4, 124/201, d=0.950, g=0.003\n",
            ">4, 125/201, d=0.829, g=0.006\n",
            ">4, 126/201, d=0.863, g=0.002\n",
            ">4, 127/201, d=0.892, g=0.004\n",
            ">4, 128/201, d=0.826, g=0.003\n",
            ">4, 129/201, d=0.748, g=0.004\n",
            ">4, 130/201, d=0.820, g=0.004\n",
            ">4, 131/201, d=0.982, g=0.003\n",
            ">4, 132/201, d=0.781, g=0.003\n",
            ">4, 133/201, d=0.844, g=0.003\n",
            ">4, 134/201, d=0.831, g=0.002\n",
            ">4, 135/201, d=0.803, g=0.003\n",
            ">4, 136/201, d=0.898, g=0.004\n",
            ">4, 137/201, d=0.812, g=0.002\n",
            ">4, 138/201, d=0.800, g=0.003\n",
            ">4, 139/201, d=0.962, g=0.004\n",
            ">4, 140/201, d=0.862, g=0.006\n",
            ">4, 141/201, d=0.896, g=0.003\n",
            ">4, 142/201, d=0.813, g=0.002\n"
          ]
        }
      ]
    },
    {
      "cell_type": "code",
      "source": [
        "gan_model = keras.models.load_model(\"/content/drive/MyDrive/SPEECH PROJECT/GAN_TRAINED_{i}.hdf5\")"
      ],
      "metadata": {
        "id": "UUGqUG3dHFdW"
      },
      "execution_count": null,
      "outputs": []
    },
    {
      "cell_type": "code",
      "source": [
        "from keras.models import load_model\n",
        "from numpy.random import randn\n",
        "from matplotlib import pyplot\n",
        "\n",
        "def generate_latent_points(latent_dim, n_samples):\n",
        "    x_input = randn(latent_dim * n_samples)\n",
        "    x_input = x_input.reshape(n_samples, latent_dim)\n",
        "    return x_input\n",
        "\n",
        "model = g_model\n",
        "latent_points = generate_latent_points(latent_dim,1)\n",
        "X = g_model.predict(latent_points)\n",
        "array = np.array(X.reshape(106,100),dtype = np.uint8)\n",
        "array*= 255\n",
        "new_image = Image.fromarray(array,'L')\n",
        "new_image = new_image.save('composition.png')"
      ],
      "metadata": {
        "id": "qjj21OTO7HZM"
      },
      "execution_count": null,
      "outputs": []
    },
    {
      "cell_type": "code",
      "source": [
        "image2midi('composition.png')"
      ],
      "metadata": {
        "id": "0u6DrRCfBev2"
      },
      "execution_count": null,
      "outputs": []
    },
    {
      "cell_type": "code",
      "source": [
        "!fluidsynth -ni font.sf2 composition.mid -F output.wav -r 44100\n",
        "from IPython.display import Audio\n",
        "Audio('output.wav')"
      ],
      "metadata": {
        "id": "vbamWxi1Bhqd"
      },
      "execution_count": null,
      "outputs": []
    }
  ]
}